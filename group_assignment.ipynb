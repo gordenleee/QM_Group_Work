{
 "cells": [
  {
   "cell_type": "code",
   "execution_count": 1,
   "id": "9a827935-0529-40cf-9af9-331d6071fd19",
   "metadata": {},
   "outputs": [],
   "source": [
    "# imports\n",
    "from sklearn.preprocessing import StandardScaler, OneHotEncoder\n",
    "from sklearn.impute import SimpleImputer\n",
    "from sklearn.compose import ColumnTransformer\n",
    "from sklearn.pipeline import Pipeline\n",
    "import pandas as pd\n",
    "import numpy as np\n",
    "import matplotlib.pyplot as plt\n",
    "\n",
    "import statsmodels\n",
    "import statsmodels.api as sm"
   ]
  },
  {
   "cell_type": "markdown",
   "id": "ab919c0b-049a-46ba-8096-7ce0e9002d3f",
   "metadata": {},
   "source": [
    "# Read data"
   ]
  },
  {
   "cell_type": "code",
   "execution_count": 7,
   "id": "c9cc5abe-1d4f-41c3-a50d-36746a16d6c8",
   "metadata": {},
   "outputs": [
    {
     "name": "stdout",
     "output_type": "stream",
     "text": [
      "(50000, 75)\n"
     ]
    }
   ],
   "source": [
    "# read data into a DataFrame\n",
    "df = pd.read_csv(\"Data/need_2021_anon_dataset_50k.csv\")\n",
    "\n",
    "print(df.shape)"
   ]
  },
  {
   "cell_type": "code",
   "execution_count": 8,
   "id": "9ecc9cab-a1cf-4785-80df-491f38a475a1",
   "metadata": {},
   "outputs": [
    {
     "data": {
      "text/html": [
       "<div>\n",
       "<style scoped>\n",
       "    .dataframe tbody tr th:only-of-type {\n",
       "        vertical-align: middle;\n",
       "    }\n",
       "\n",
       "    .dataframe tbody tr th {\n",
       "        vertical-align: top;\n",
       "    }\n",
       "\n",
       "    .dataframe thead th {\n",
       "        text-align: right;\n",
       "    }\n",
       "</style>\n",
       "<table border=\"1\" class=\"dataframe\">\n",
       "  <thead>\n",
       "    <tr style=\"text-align: right;\">\n",
       "      <th></th>\n",
       "      <th>PROP_TYPE</th>\n",
       "      <th>PROP_AGE_BAND</th>\n",
       "      <th>FLOOR_AREA_BAND</th>\n",
       "      <th>CONSERVATORY_FLAG</th>\n",
       "      <th>COUNCIL_TAX_BAND</th>\n",
       "      <th>IMD_BAND_ENG</th>\n",
       "      <th>IMD_BAND_WALES</th>\n",
       "      <th>REGION</th>\n",
       "      <th>LI_FLAG</th>\n",
       "      <th>LI_DATE</th>\n",
       "      <th>...</th>\n",
       "      <th>ElecValFlag2014</th>\n",
       "      <th>ElecValFlag2013</th>\n",
       "      <th>ElecValFlag2012</th>\n",
       "      <th>ElecValFlag2011</th>\n",
       "      <th>ElecValFlag2010</th>\n",
       "      <th>ElecValFlag2009</th>\n",
       "      <th>ElecValFlag2008</th>\n",
       "      <th>ElecValFlag2007</th>\n",
       "      <th>ElecValFlag2006</th>\n",
       "      <th>ElecValFlag2005</th>\n",
       "    </tr>\n",
       "  </thead>\n",
       "  <tbody>\n",
       "    <tr>\n",
       "      <th>0</th>\n",
       "      <td>Mid terrace</td>\n",
       "      <td>2</td>\n",
       "      <td>3</td>\n",
       "      <td>NaN</td>\n",
       "      <td>B</td>\n",
       "      <td>2.0</td>\n",
       "      <td>NaN</td>\n",
       "      <td>E12000005</td>\n",
       "      <td>0</td>\n",
       "      <td>NaN</td>\n",
       "      <td>...</td>\n",
       "      <td>V</td>\n",
       "      <td>E</td>\n",
       "      <td>E</td>\n",
       "      <td>V</td>\n",
       "      <td>E</td>\n",
       "      <td>V</td>\n",
       "      <td>V</td>\n",
       "      <td>V</td>\n",
       "      <td>V</td>\n",
       "      <td>V</td>\n",
       "    </tr>\n",
       "    <tr>\n",
       "      <th>1</th>\n",
       "      <td>Flat</td>\n",
       "      <td>3</td>\n",
       "      <td>2</td>\n",
       "      <td>NaN</td>\n",
       "      <td>A</td>\n",
       "      <td>1.0</td>\n",
       "      <td>NaN</td>\n",
       "      <td>E12000008</td>\n",
       "      <td>0</td>\n",
       "      <td>NaN</td>\n",
       "      <td>...</td>\n",
       "      <td>V</td>\n",
       "      <td>V</td>\n",
       "      <td>V</td>\n",
       "      <td>V</td>\n",
       "      <td>V</td>\n",
       "      <td>V</td>\n",
       "      <td>V</td>\n",
       "      <td>V</td>\n",
       "      <td>V</td>\n",
       "      <td>V</td>\n",
       "    </tr>\n",
       "    <tr>\n",
       "      <th>2</th>\n",
       "      <td>Mid terrace</td>\n",
       "      <td>1</td>\n",
       "      <td>3</td>\n",
       "      <td>NaN</td>\n",
       "      <td>A</td>\n",
       "      <td>2.0</td>\n",
       "      <td>NaN</td>\n",
       "      <td>E12000001</td>\n",
       "      <td>0</td>\n",
       "      <td>NaN</td>\n",
       "      <td>...</td>\n",
       "      <td>V</td>\n",
       "      <td>V</td>\n",
       "      <td>V</td>\n",
       "      <td>V</td>\n",
       "      <td>V</td>\n",
       "      <td>V</td>\n",
       "      <td>V</td>\n",
       "      <td>V</td>\n",
       "      <td>V</td>\n",
       "      <td>V</td>\n",
       "    </tr>\n",
       "    <tr>\n",
       "      <th>3</th>\n",
       "      <td>Flat</td>\n",
       "      <td>4</td>\n",
       "      <td>1</td>\n",
       "      <td>0.0</td>\n",
       "      <td>A</td>\n",
       "      <td>3.0</td>\n",
       "      <td>NaN</td>\n",
       "      <td>E12000004</td>\n",
       "      <td>0</td>\n",
       "      <td>NaN</td>\n",
       "      <td>...</td>\n",
       "      <td>O</td>\n",
       "      <td>O</td>\n",
       "      <td>O</td>\n",
       "      <td>O</td>\n",
       "      <td>O</td>\n",
       "      <td>O</td>\n",
       "      <td>O</td>\n",
       "      <td>O</td>\n",
       "      <td>O</td>\n",
       "      <td>O</td>\n",
       "    </tr>\n",
       "    <tr>\n",
       "      <th>4</th>\n",
       "      <td>Semi detached</td>\n",
       "      <td>2</td>\n",
       "      <td>2</td>\n",
       "      <td>NaN</td>\n",
       "      <td>D</td>\n",
       "      <td>5.0</td>\n",
       "      <td>NaN</td>\n",
       "      <td>E12000008</td>\n",
       "      <td>0</td>\n",
       "      <td>NaN</td>\n",
       "      <td>...</td>\n",
       "      <td>V</td>\n",
       "      <td>V</td>\n",
       "      <td>V</td>\n",
       "      <td>V</td>\n",
       "      <td>V</td>\n",
       "      <td>V</td>\n",
       "      <td>V</td>\n",
       "      <td>V</td>\n",
       "      <td>V</td>\n",
       "      <td>V</td>\n",
       "    </tr>\n",
       "  </tbody>\n",
       "</table>\n",
       "<p>5 rows × 75 columns</p>\n",
       "</div>"
      ],
      "text/plain": [
       "       PROP_TYPE  PROP_AGE_BAND  FLOOR_AREA_BAND  CONSERVATORY_FLAG  \\\n",
       "0    Mid terrace              2                3                NaN   \n",
       "1           Flat              3                2                NaN   \n",
       "2    Mid terrace              1                3                NaN   \n",
       "3           Flat              4                1                0.0   \n",
       "4  Semi detached              2                2                NaN   \n",
       "\n",
       "  COUNCIL_TAX_BAND  IMD_BAND_ENG  IMD_BAND_WALES     REGION  LI_FLAG  LI_DATE  \\\n",
       "0                B           2.0             NaN  E12000005        0      NaN   \n",
       "1                A           1.0             NaN  E12000008        0      NaN   \n",
       "2                A           2.0             NaN  E12000001        0      NaN   \n",
       "3                A           3.0             NaN  E12000004        0      NaN   \n",
       "4                D           5.0             NaN  E12000008        0      NaN   \n",
       "\n",
       "   ...  ElecValFlag2014  ElecValFlag2013  ElecValFlag2012  ElecValFlag2011  \\\n",
       "0  ...                V                E                E                V   \n",
       "1  ...                V                V                V                V   \n",
       "2  ...                V                V                V                V   \n",
       "3  ...                O                O                O                O   \n",
       "4  ...                V                V                V                V   \n",
       "\n",
       "   ElecValFlag2010  ElecValFlag2009  ElecValFlag2008  ElecValFlag2007  \\\n",
       "0                E                V                V                V   \n",
       "1                V                V                V                V   \n",
       "2                V                V                V                V   \n",
       "3                O                O                O                O   \n",
       "4                V                V                V                V   \n",
       "\n",
       "   ElecValFlag2006  ElecValFlag2005  \n",
       "0                V                V  \n",
       "1                V                V  \n",
       "2                V                V  \n",
       "3                O                O  \n",
       "4                V                V  \n",
       "\n",
       "[5 rows x 75 columns]"
      ]
     },
     "execution_count": 8,
     "metadata": {},
     "output_type": "execute_result"
    }
   ],
   "source": [
    "df.head()"
   ]
  },
  {
   "cell_type": "code",
   "execution_count": 9,
   "id": "96682270-ff4e-4ddf-b0c3-26048f03c64a",
   "metadata": {},
   "outputs": [
    {
     "name": "stdout",
     "output_type": "stream",
     "text": [
      "<class 'pandas.core.frame.DataFrame'>\n",
      "RangeIndex: 50000 entries, 0 to 49999\n",
      "Data columns (total 75 columns):\n",
      " #   Column             Non-Null Count  Dtype  \n",
      "---  ------             --------------  -----  \n",
      " 0   PROP_TYPE          50000 non-null  object \n",
      " 1   PROP_AGE_BAND      50000 non-null  int64  \n",
      " 2   FLOOR_AREA_BAND    50000 non-null  int64  \n",
      " 3   CONSERVATORY_FLAG  7418 non-null   float64\n",
      " 4   COUNCIL_TAX_BAND   50000 non-null  object \n",
      " 5   IMD_BAND_ENG       47410 non-null  float64\n",
      " 6   IMD_BAND_WALES     2590 non-null   float64\n",
      " 7   REGION             50000 non-null  object \n",
      " 8   LI_FLAG            50000 non-null  int64  \n",
      " 9   LI_DATE            8568 non-null   float64\n",
      " 10  CWI_FLAG           50000 non-null  int64  \n",
      " 11  CWI_DATE           8412 non-null   float64\n",
      " 12  PV_FLAG            50000 non-null  int64  \n",
      " 13  PV_DATE            561 non-null    float64\n",
      " 14  MAIN_HEAT_FUEL     50000 non-null  int64  \n",
      " 15  Gcons2019          40329 non-null  float64\n",
      " 16  Gcons2018          40349 non-null  float64\n",
      " 17  Gcons2017          40230 non-null  float64\n",
      " 18  Gcons2016          39737 non-null  float64\n",
      " 19  Gcons2015          39208 non-null  float64\n",
      " 20  Gcons2014          38915 non-null  float64\n",
      " 21  Gcons2013          38584 non-null  float64\n",
      " 22  Gcons2012          38388 non-null  float64\n",
      " 23  Gcons2011          38303 non-null  float64\n",
      " 24  Gcons2010          38090 non-null  float64\n",
      " 25  Gcons2009          37828 non-null  float64\n",
      " 26  Gcons2008          37426 non-null  float64\n",
      " 27  Gcons2007          37205 non-null  float64\n",
      " 28  Gcons2006          36668 non-null  float64\n",
      " 29  Gcons2005          36104 non-null  float64\n",
      " 30  GasValFlag2019     41920 non-null  object \n",
      " 31  GasValFlag2018     41920 non-null  object \n",
      " 32  GasValFlag2017     41920 non-null  object \n",
      " 33  GasValFlag2016     41920 non-null  object \n",
      " 34  GasValFlag2015     41920 non-null  object \n",
      " 35  GasValFlag2014     41920 non-null  object \n",
      " 36  GasValFlag2013     41920 non-null  object \n",
      " 37  GasValFlag2012     41920 non-null  object \n",
      " 38  GasValFlag2011     41920 non-null  object \n",
      " 39  GasValFlag2010     41920 non-null  object \n",
      " 40  GasValFlag2009     41920 non-null  object \n",
      " 41  GasValFlag2008     41920 non-null  object \n",
      " 42  GasValFlag2007     41920 non-null  object \n",
      " 43  GasValFlag2006     41920 non-null  object \n",
      " 44  GasValFlag2005     41920 non-null  object \n",
      " 45  Econs2019          47028 non-null  float64\n",
      " 46  Econs2018          46924 non-null  float64\n",
      " 47  Econs2017          46400 non-null  float64\n",
      " 48  Econs2016          46045 non-null  float64\n",
      " 49  Econs2015          45547 non-null  float64\n",
      " 50  Econs2014          45300 non-null  float64\n",
      " 51  Econs2013          45096 non-null  float64\n",
      " 52  Econs2012          44753 non-null  float64\n",
      " 53  Econs2011          44599 non-null  float64\n",
      " 54  Econs2010          44237 non-null  float64\n",
      " 55  Econs2009          43722 non-null  float64\n",
      " 56  Econs2008          43087 non-null  float64\n",
      " 57  Econs2007          42979 non-null  float64\n",
      " 58  Econs2006          42713 non-null  float64\n",
      " 59  Econs2005          41614 non-null  float64\n",
      " 60  ElecValFlag2019    49095 non-null  object \n",
      " 61  ElecValFlag2018    49095 non-null  object \n",
      " 62  ElecValFlag2017    49095 non-null  object \n",
      " 63  ElecValFlag2016    49095 non-null  object \n",
      " 64  ElecValFlag2015    49095 non-null  object \n",
      " 65  ElecValFlag2014    49095 non-null  object \n",
      " 66  ElecValFlag2013    49095 non-null  object \n",
      " 67  ElecValFlag2012    49095 non-null  object \n",
      " 68  ElecValFlag2011    49095 non-null  object \n",
      " 69  ElecValFlag2010    49095 non-null  object \n",
      " 70  ElecValFlag2009    49095 non-null  object \n",
      " 71  ElecValFlag2008    49095 non-null  object \n",
      " 72  ElecValFlag2007    49095 non-null  object \n",
      " 73  ElecValFlag2006    49095 non-null  object \n",
      " 74  ElecValFlag2005    49095 non-null  object \n",
      "dtypes: float64(36), int64(6), object(33)\n",
      "memory usage: 28.6+ MB\n"
     ]
    }
   ],
   "source": [
    "df.info()"
   ]
  },
  {
   "cell_type": "markdown",
   "id": "1c2b5849-069d-46d2-af1f-2e770c84bb21",
   "metadata": {},
   "source": [
    "# Wrangle data\n",
    "## Select rows"
   ]
  },
  {
   "cell_type": "code",
   "execution_count": 10,
   "id": "a6fa07f9-3635-464e-8c95-c8d8d72d4528",
   "metadata": {},
   "outputs": [
    {
     "name": "stdout",
     "output_type": "stream",
     "text": [
      "(47410, 75)\n"
     ]
    }
   ],
   "source": [
    "# Select rows where the 'IMD_BAND_ENG' column is not NaN\n",
    "df = df[df['IMD_BAND_ENG'].notna()]\n",
    "\n",
    "print(df.shape)"
   ]
  },
  {
   "cell_type": "markdown",
   "id": "9419d03a-b44d-495a-8e92-100215453b45",
   "metadata": {},
   "source": [
    "## Select columns"
   ]
  },
  {
   "cell_type": "code",
   "execution_count": 16,
   "id": "1c94c5ed-8092-46dd-a703-dff05725797e",
   "metadata": {},
   "outputs": [
    {
     "name": "stdout",
     "output_type": "stream",
     "text": [
      "(47410, 40)\n"
     ]
    }
   ],
   "source": [
    "columns_of_interest = [\n",
    "    'PROP_TYPE', 'PROP_AGE_BAND', 'FLOOR_AREA_BAND', 'COUNCIL_TAX_BAND',\n",
    "    'IMD_BAND_ENG', 'REGION', 'LI_FLAG', 'CWI_FLAG', 'PV_FLAG', 'MAIN_HEAT_FUEL',\n",
    "    'Gcons2019', 'Gcons2018', 'Gcons2017', 'Gcons2016', 'Gcons2015', 'Gcons2014', 'Gcons2013', 'Gcons2012', 'Gcons2011', 'Gcons2010', 'Gcons2009', 'Gcons2008', 'Gcons2007', 'Gcons2006', 'Gcons2005',\n",
    "    'Econs2019', 'Econs2018', 'Econs2017', 'Econs2016', 'Econs2015', 'Econs2014', 'Econs2013', 'Econs2012', 'Econs2011', 'Econs2010', 'Econs2009', 'Econs2008', 'Econs2007', 'Econs2006', 'Econs2005'\n",
    "]\n",
    "\n",
    "df_filtered = df[columns_of_interest].copy()\n",
    "print(df_filtered.shape)"
   ]
  },
  {
   "cell_type": "markdown",
   "id": "b8574a74-95b2-4bf3-aa80-d70fc2b89b94",
   "metadata": {},
   "source": [
    "## Handle outliers"
   ]
  },
  {
   "cell_type": "code",
   "execution_count": 18,
   "id": "e8e184ed-6e2d-485a-85d1-7147a4cd5381",
   "metadata": {},
   "outputs": [],
   "source": [
    "numerical_cols = [f'Gcons{i}' for i in range(2019, 2004, -1)] + [f'Econs{i}' for i in range(2019, 2004, -1)]\n",
    "for col in numerical_cols:\n",
    "    Q1 = df_filtered[col].quantile(0.25)\n",
    "    Q3 = df_filtered[col].quantile(0.75)\n",
    "    IQR = Q3 - Q1\n",
    "\n",
    "    lower_bound = Q1 - 1.5 * IQR\n",
    "    upper_bound = Q3 + 1.5 * IQR\n",
    "\n",
    "    df_filtered.loc[df_filtered[col] < lower_bound, col] = lower_bound\n",
    "    df_filtered.loc[df_filtered[col] > upper_bound, col] = upper_bound"
   ]
  },
  {
   "cell_type": "markdown",
   "id": "614b180f-ff47-40ca-a7a8-dcb3bcfcb5da",
   "metadata": {},
   "source": [
    "## Define the data type"
   ]
  },
  {
   "cell_type": "code",
   "execution_count": 19,
   "id": "9eacda31-e93d-4f28-995d-7473b0752b94",
   "metadata": {},
   "outputs": [],
   "source": [
    "categorical_cols = ['PROP_TYPE', 'COUNCIL_TAX_BAND', 'REGION']\n",
    "other_cols = ['PROP_AGE_BAND', 'FLOOR_AREA_BAND', 'IMD_BAND_ENG', 'LI_FLAG', 'CWI_FLAG', 'PV_FLAG', 'MAIN_HEAT_FUEL']"
   ]
  },
  {
   "cell_type": "markdown",
   "id": "d7fa5813-97c6-4f17-a576-120b6f60d894",
   "metadata": {},
   "source": [
    "## Converters and zoomers"
   ]
  },
  {
   "cell_type": "code",
   "execution_count": 20,
   "id": "15f47795-81fd-43ac-83b7-1d70e7d2cfb6",
   "metadata": {},
   "outputs": [],
   "source": [
    "numerical_transformer = Pipeline(steps=[\n",
    "    ('imputer', SimpleImputer(strategy='median')),\n",
    "    ('scaler', StandardScaler())\n",
    "])\n",
    "categorical_transformer = Pipeline(steps=[\n",
    "    ('imputer', SimpleImputer(strategy='most_frequent')),\n",
    "    ('onehot', OneHotEncoder(handle_unknown='ignore'))\n",
    "])"
   ]
  },
  {
   "cell_type": "markdown",
   "id": "dda8a080-1666-48fb-aec0-99d71a4bf584",
   "metadata": {},
   "source": [
    "## Applicating line converter"
   ]
  },
  {
   "cell_type": "code",
   "execution_count": 21,
   "id": "54434e1d-4a28-409b-8290-2093044356b6",
   "metadata": {},
   "outputs": [],
   "source": [
    "preprocessor = ColumnTransformer(\n",
    "    transformers=[\n",
    "        ('num', numerical_transformer, numerical_cols),\n",
    "        ('cat', categorical_transformer, categorical_cols),\n",
    "        ('other', 'passthrough', other_cols)\n",
    "    ])"
   ]
  },
  {
   "cell_type": "markdown",
   "id": "81a30a9b-5858-4e8a-a67b-7fffeb008dda",
   "metadata": {},
   "source": [
    "## Applicating conversion"
   ]
  },
  {
   "cell_type": "code",
   "execution_count": 22,
   "id": "e19c4b2c-88b6-4b5b-9495-58d061bc4ed2",
   "metadata": {},
   "outputs": [],
   "source": [
    "df_processed = preprocessor.fit_transform(df_filtered)"
   ]
  },
  {
   "cell_type": "code",
   "execution_count": 24,
   "id": "899901b3-2219-43e7-80a6-9b1fa1c0f152",
   "metadata": {},
   "outputs": [
    {
     "name": "stdout",
     "output_type": "stream",
     "text": [
      "(47410, 60)\n"
     ]
    }
   ],
   "source": [
    "# Displays the shape of the processed data\n",
    "df_processed_shape = df_processed.shape\n",
    "print (df_processed_shape)"
   ]
  },
  {
   "cell_type": "code",
   "execution_count": 31,
   "id": "a37bc489-a023-4c61-9362-e081e7c0fdce",
   "metadata": {},
   "outputs": [
    {
     "name": "stdout",
     "output_type": "stream",
     "text": [
      "<bound method NDFrame.head of        Gcons2019  Gcons2018  Gcons2017  Gcons2016  Gcons2015  Gcons2014  \\\n",
      "0       0.016052  -0.353765   0.047426  -1.108477  -1.108466  -0.131642   \n",
      "1      -0.357304  -1.287228  -0.780180  -0.757788  -0.446439  -0.115052   \n",
      "2      -0.276140  -0.222753  -0.118095   0.227484  -0.976061   0.133803   \n",
      "3      -1.152715  -1.139839  -1.177431  -0.139905  -0.131977  -0.131642   \n",
      "4      -0.146277  -0.140870  -0.134648  -0.139905  -0.131977  -0.131642   \n",
      "...          ...        ...        ...        ...        ...        ...   \n",
      "47405  -0.422236  -0.386518  -0.267065  -0.223403   0.215588   0.117212   \n",
      "47406   0.129682  -0.173623  -0.068439  -0.707689  -0.711250  -1.707723   \n",
      "47407  -0.146277  -0.140870  -1.690547  -1.659561  -1.555335  -1.575000   \n",
      "47408   1.006257   0.661580   0.626750   0.611573   0.761760   0.697873   \n",
      "47409   1.606873   1.431277   0.808823   0.778568   0.761760   1.394667   \n",
      "\n",
      "       Gcons2013  Gcons2012  Gcons2011  Gcons2010  ...  REGION_E12000007  \\\n",
      "0      -1.944747  -1.982957  -1.828854  -1.923738  ...               0.0   \n",
      "1      -0.122797  -0.119998   0.059822   0.055918  ...               0.0   \n",
      "2       0.205482   0.220195  -0.327599   0.040206  ...               0.0   \n",
      "3      -0.122797  -0.119998  -0.117746  -0.116909  ...               0.0   \n",
      "4      -0.122797  -0.119998  -0.117746  -0.116909  ...               0.0   \n",
      "...          ...        ...        ...        ...  ...               ...   \n",
      "47405  -0.812183  -0.314393   0.205104  -0.305448  ...               0.0   \n",
      "47406  -1.189704  -1.172974  -0.844160  -0.666814  ...               0.0   \n",
      "47407  -1.534398  -1.480768  -1.489861  -1.452391  ...               0.0   \n",
      "47408   0.599417   0.625186   0.657095   0.370149  ...               0.0   \n",
      "47409   1.141078   1.062576   0.786235   1.061457  ...               0.0   \n",
      "\n",
      "       REGION_E12000008  REGION_E12000009  PROP_AGE_BAND  FLOOR_AREA_BAND  \\\n",
      "0                   0.0               0.0            2.0              3.0   \n",
      "1                   1.0               0.0            3.0              2.0   \n",
      "2                   0.0               0.0            1.0              3.0   \n",
      "3                   0.0               0.0            4.0              1.0   \n",
      "4                   1.0               0.0            2.0              2.0   \n",
      "...                 ...               ...            ...              ...   \n",
      "47405               1.0               0.0            2.0              3.0   \n",
      "47406               0.0               0.0            1.0              2.0   \n",
      "47407               0.0               0.0            1.0              2.0   \n",
      "47408               0.0               0.0            2.0              2.0   \n",
      "47409               0.0               0.0            1.0              3.0   \n",
      "\n",
      "       IMD_BAND_ENG  LI_FLAG  CWI_FLAG  PV_FLAG  MAIN_HEAT_FUEL  \n",
      "0               2.0      0.0       0.0      0.0             1.0  \n",
      "1               1.0      0.0       0.0      0.0             1.0  \n",
      "2               2.0      0.0       0.0      0.0             1.0  \n",
      "3               3.0      0.0       0.0      0.0             1.0  \n",
      "4               5.0      0.0       0.0      0.0             2.0  \n",
      "...             ...      ...       ...      ...             ...  \n",
      "47405           5.0      0.0       0.0      0.0             1.0  \n",
      "47406           1.0      0.0       0.0      0.0             1.0  \n",
      "47407           2.0      0.0       0.0      0.0             1.0  \n",
      "47408           4.0      0.0       1.0      0.0             1.0  \n",
      "47409           2.0      0.0       0.0      0.0             1.0  \n",
      "\n",
      "[47410 rows x 60 columns]>\n"
     ]
    }
   ],
   "source": [
    "# Convert the converted Numpy array back to Pandas DataFrame\n",
    "# Because the unique thermal encoding creates additional columns, the column names need to be redefined\n",
    "\n",
    "# Gets the class column name after the unique heat encoding\n",
    "categories = [f\"{col}_{cat}\" for col, categories in zip(categorical_cols, preprocessor.named_transformers_['cat'].named_steps['onehot'].categories_) for cat in categories]\n",
    "\n",
    "# The numeric column and other columns remain unchanged\n",
    "new_columns = numerical_cols + categories + other_cols\n",
    "\n",
    "# Create DataFrame\n",
    "df_processed = pd.DataFrame(df_processed, columns=new_columns)\n",
    "\n",
    "# Look at the first few lines\n",
    "print(df_processed.head)"
   ]
  }
 ],
 "metadata": {
  "kernelspec": {
   "display_name": "Python 3 (ipykernel)",
   "language": "python",
   "name": "python3"
  },
  "language_info": {
   "codemirror_mode": {
    "name": "ipython",
    "version": 3
   },
   "file_extension": ".py",
   "mimetype": "text/x-python",
   "name": "python",
   "nbconvert_exporter": "python",
   "pygments_lexer": "ipython3",
   "version": "3.11.5"
  }
 },
 "nbformat": 4,
 "nbformat_minor": 5
}
